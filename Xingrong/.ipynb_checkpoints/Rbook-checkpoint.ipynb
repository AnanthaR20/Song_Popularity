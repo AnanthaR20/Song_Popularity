{
 "cells": [
  {
   "cell_type": "code",
   "execution_count": 1,
   "metadata": {},
   "outputs": [
    {
     "data": {
      "text/plain": [
       "\n",
       "Call:\n",
       "lm(formula = song_popularity ~ song_duration_ms + acousticness + \n",
       "    danceability + energy + instrumentalness + key + liveness + \n",
       "    loudness + audio_mode + speechiness + tempo + time_signature + \n",
       "    audio_valence, data = dat)\n",
       "\n",
       "Residuals:\n",
       "    Min      1Q  Median      3Q     Max \n",
       "-68.388 -12.229   2.931  15.586  45.376 \n",
       "\n",
       "Coefficients:\n",
       "                   Estimate Std. Error t value Pr(>|t|)    \n",
       "(Intercept)       5.510e+01  1.244e+01   4.430 9.47e-06 ***\n",
       "song_duration_ms -4.902e-06  2.662e-06  -1.841 0.065615 .  \n",
       "acousticness     -3.926e+00  7.626e-01  -5.148 2.66e-07 ***\n",
       "danceability      1.210e+01  1.207e+00  10.023  < 2e-16 ***\n",
       "energy           -1.175e+01  1.411e+00  -8.328  < 2e-16 ***\n",
       "instrumentalness -1.033e+01  7.869e-01 -13.131  < 2e-16 ***\n",
       "key1              1.651e+00  6.557e-01   2.518 0.011806 *  \n",
       "key10             6.082e-01  7.546e-01   0.806 0.420212    \n",
       "key11             6.986e-01  7.162e-01   0.975 0.329397    \n",
       "key2             -1.156e+00  6.910e-01  -1.673 0.094355 .  \n",
       "key3             -1.257e+00  1.056e+00  -1.190 0.233990    \n",
       "key4             -9.343e-01  7.534e-01  -1.240 0.214919    \n",
       "key5              2.076e-01  7.133e-01   0.291 0.771013    \n",
       "key6              1.689e+00  7.496e-01   2.253 0.024273 *  \n",
       "key7             -1.851e+00  6.601e-01  -2.804 0.005054 ** \n",
       "key8             -9.972e-01  7.438e-01  -1.341 0.180058    \n",
       "key9             -1.492e+00  6.966e-01  -2.142 0.032175 *  \n",
       "liveness         -4.324e+00  1.112e+00  -3.887 0.000102 ***\n",
       "loudness          6.933e-01  6.989e-02   9.921  < 2e-16 ***\n",
       "audio_mode1       5.414e-01  3.410e-01   1.588 0.112340    \n",
       "speechiness      -2.893e+00  1.590e+00  -1.820 0.068835 .  \n",
       "tempo            -1.123e-02  5.616e-03  -1.999 0.045602 *  \n",
       "time_signature1   1.003e+01  1.262e+01   0.795 0.426660    \n",
       "time_signature3   1.093e+01  1.239e+01   0.882 0.378046    \n",
       "time_signature4   1.273e+01  1.237e+01   1.029 0.303668    \n",
       "time_signature5   1.377e+01  1.245e+01   1.106 0.268765    \n",
       "audio_valence    -8.542e+00  7.532e-01 -11.341  < 2e-16 ***\n",
       "---\n",
       "Signif. codes:  0 '***' 0.001 '**' 0.01 '*' 0.05 '.' 0.1 ' ' 1\n",
       "\n",
       "Residual standard error: 21.38 on 18790 degrees of freedom\n",
       "  (18 observations deleted due to missingness)\n",
       "Multiple R-squared:  0.04906,\tAdjusted R-squared:  0.04775 \n",
       "F-statistic: 37.29 on 26 and 18790 DF,  p-value: < 2.2e-16\n"
      ]
     },
     "metadata": {},
     "output_type": "display_data"
    }
   ],
   "source": [
    "dat<-read.csv(file='data/song_data.csv',colClasses = c(\n",
    "  \"character\",#song_name\n",
    "  \"numeric\",#popularity\n",
    "  \"numeric\",#duration\n",
    "  \"numeric\",#acousticness\n",
    "  \"numeric\",#danceability\n",
    "  \"numeric\",#energy\n",
    "  \"numeric\",#instru\n",
    "  \"factor\",#key\n",
    "  \"numeric\",#live\n",
    "  \"numeric\",#loud\n",
    "  \"factor\",#audio\n",
    "  \"numeric\",#speech\n",
    "  \"numeric\",#tempo\n",
    "  \"factor\",#timesignature\n",
    "  \"numeric\"\n",
    "))\n",
    "\n",
    "model<-lm(formula = song_popularity~song_duration_ms+acousticness+danceability+energy+instrumentalness+key+liveness+loudness+audio_mode+speechiness+tempo+time_signature+audio_valence,data=dat)\n",
    "\n",
    "summary(model)"
   ]
  },
  {
   "cell_type": "code",
   "execution_count": 3,
   "metadata": {},
   "outputs": [
    {
     "data": {
      "text/plain": [
       "\n",
       "Call:\n",
       "lm(formula = song_popularity ~ song_duration_ms + acousticness + \n",
       "    danceability + energy + instrumentalness + key + liveness + \n",
       "    loudness + audio_mode + speechiness + tempo + time_signature + \n",
       "    audio_valence, data = dat1)\n",
       "\n",
       "Residuals:\n",
       "    Min      1Q  Median      3Q     Max \n",
       "-67.183 -12.310   2.989  15.653  45.726 \n",
       "\n",
       "Coefficients:\n",
       "                   Estimate Std. Error t value Pr(>|t|)    \n",
       "(Intercept)       6.233e+01  2.769e+00  22.512  < 2e-16 ***\n",
       "song_duration_ms -5.166e-06  2.663e-06  -1.940  0.05242 .  \n",
       "acousticness     -4.079e+00  7.605e-01  -5.364 8.22e-08 ***\n",
       "danceability      1.274e+01  1.191e+00  10.702  < 2e-16 ***\n",
       "energy           -1.176e+01  1.407e+00  -8.357  < 2e-16 ***\n",
       "instrumentalness -1.029e+01  7.867e-01 -13.082  < 2e-16 ***\n",
       "key              -6.288e-02  4.386e-02  -1.434  0.15165    \n",
       "liveness         -4.443e+00  1.111e+00  -3.997 6.43e-05 ***\n",
       "loudness          7.049e-01  6.983e-02  10.095  < 2e-16 ***\n",
       "audio_mode        2.255e-01  3.321e-01   0.679  0.49711    \n",
       "speechiness      -2.221e+00  1.570e+00  -1.415  0.15715    \n",
       "tempo            -1.144e-02  5.608e-03  -2.039  0.04146 *  \n",
       "time_signature    1.423e+00  5.342e-01   2.664  0.00774 ** \n",
       "audio_valence    -8.738e+00  7.529e-01 -11.606  < 2e-16 ***\n",
       "---\n",
       "Signif. codes:  0 '***' 0.001 '**' 0.01 '*' 0.05 '.' 0.1 ' ' 1\n",
       "\n",
       "Residual standard error: 21.4 on 18803 degrees of freedom\n",
       "  (18 observations deleted due to missingness)\n",
       "Multiple R-squared:  0.04623,\tAdjusted R-squared:  0.04557 \n",
       "F-statistic: 70.11 on 13 and 18803 DF,  p-value: < 2.2e-16\n"
      ]
     },
     "metadata": {},
     "output_type": "display_data"
    }
   ],
   "source": [
    "dat1<-read.csv(file='data/song_data.csv')\n",
    "model1<-lm(formula = song_popularity~song_duration_ms+acousticness+danceability+energy+instrumentalness+key+liveness+loudness+audio_mode+speechiness+tempo+time_signature+audio_valence,data=dat1)\n",
    "\n",
    "summary(model1)"
   ]
  },
  {
   "cell_type": "code",
   "execution_count": null,
   "metadata": {},
   "outputs": [],
   "source": []
  }
 ],
 "metadata": {
  "kernelspec": {
   "display_name": "R",
   "language": "R",
   "name": "ir"
  },
  "language_info": {
   "codemirror_mode": "r",
   "file_extension": ".r",
   "mimetype": "text/x-r-source",
   "name": "R",
   "pygments_lexer": "r",
   "version": "4.0.3"
  }
 },
 "nbformat": 4,
 "nbformat_minor": 4
}
