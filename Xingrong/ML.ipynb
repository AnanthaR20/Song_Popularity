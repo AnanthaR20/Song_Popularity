{
 "cells": [
  {
   "cell_type": "code",
   "execution_count": 1,
   "metadata": {},
   "outputs": [],
   "source": [
    "import pandas as pd\n",
    "import numpy as np\n",
    "import sklearn\n",
    "from sklearn.model_selection import train_test_split\n",
    "\n",
    "from matplotlib import pyplot as plt"
   ]
  },
  {
   "cell_type": "code",
   "execution_count": 2,
   "metadata": {},
   "outputs": [
    {
     "data": {
      "text/html": [
       "<div>\n",
       "<style scoped>\n",
       "    .dataframe tbody tr th:only-of-type {\n",
       "        vertical-align: middle;\n",
       "    }\n",
       "\n",
       "    .dataframe tbody tr th {\n",
       "        vertical-align: top;\n",
       "    }\n",
       "\n",
       "    .dataframe thead th {\n",
       "        text-align: right;\n",
       "    }\n",
       "</style>\n",
       "<table border=\"1\" class=\"dataframe\">\n",
       "  <thead>\n",
       "    <tr style=\"text-align: right;\">\n",
       "      <th></th>\n",
       "      <th>song_name</th>\n",
       "      <th>song_popularity</th>\n",
       "      <th>song_duration_ms</th>\n",
       "      <th>acousticness</th>\n",
       "      <th>danceability</th>\n",
       "      <th>energy</th>\n",
       "      <th>instrumentalness</th>\n",
       "      <th>key</th>\n",
       "      <th>liveness</th>\n",
       "      <th>loudness</th>\n",
       "      <th>audio_mode</th>\n",
       "      <th>speechiness</th>\n",
       "      <th>tempo</th>\n",
       "      <th>time_signature</th>\n",
       "      <th>audio_valence</th>\n",
       "    </tr>\n",
       "  </thead>\n",
       "  <tbody>\n",
       "    <tr>\n",
       "      <th>0</th>\n",
       "      <td>Boulevard of Broken Dreams</td>\n",
       "      <td>73</td>\n",
       "      <td>262333</td>\n",
       "      <td>0.005520</td>\n",
       "      <td>0.496</td>\n",
       "      <td>0.682</td>\n",
       "      <td>0.000029</td>\n",
       "      <td>8</td>\n",
       "      <td>0.0589</td>\n",
       "      <td>-4.095</td>\n",
       "      <td>1</td>\n",
       "      <td>0.0294</td>\n",
       "      <td>167.060</td>\n",
       "      <td>4</td>\n",
       "      <td>0.474</td>\n",
       "    </tr>\n",
       "    <tr>\n",
       "      <th>1</th>\n",
       "      <td>In The End</td>\n",
       "      <td>66</td>\n",
       "      <td>216933</td>\n",
       "      <td>0.010300</td>\n",
       "      <td>0.542</td>\n",
       "      <td>0.853</td>\n",
       "      <td>0.000000</td>\n",
       "      <td>3</td>\n",
       "      <td>0.1080</td>\n",
       "      <td>-6.407</td>\n",
       "      <td>0</td>\n",
       "      <td>0.0498</td>\n",
       "      <td>105.256</td>\n",
       "      <td>4</td>\n",
       "      <td>0.370</td>\n",
       "    </tr>\n",
       "    <tr>\n",
       "      <th>2</th>\n",
       "      <td>Seven Nation Army</td>\n",
       "      <td>76</td>\n",
       "      <td>231733</td>\n",
       "      <td>0.008170</td>\n",
       "      <td>0.737</td>\n",
       "      <td>0.463</td>\n",
       "      <td>0.447000</td>\n",
       "      <td>0</td>\n",
       "      <td>0.2550</td>\n",
       "      <td>-7.828</td>\n",
       "      <td>1</td>\n",
       "      <td>0.0792</td>\n",
       "      <td>123.881</td>\n",
       "      <td>4</td>\n",
       "      <td>0.324</td>\n",
       "    </tr>\n",
       "    <tr>\n",
       "      <th>3</th>\n",
       "      <td>By The Way</td>\n",
       "      <td>74</td>\n",
       "      <td>216933</td>\n",
       "      <td>0.026400</td>\n",
       "      <td>0.451</td>\n",
       "      <td>0.970</td>\n",
       "      <td>0.003550</td>\n",
       "      <td>0</td>\n",
       "      <td>0.1020</td>\n",
       "      <td>-4.938</td>\n",
       "      <td>1</td>\n",
       "      <td>0.1070</td>\n",
       "      <td>122.444</td>\n",
       "      <td>4</td>\n",
       "      <td>0.198</td>\n",
       "    </tr>\n",
       "    <tr>\n",
       "      <th>4</th>\n",
       "      <td>How You Remind Me</td>\n",
       "      <td>56</td>\n",
       "      <td>223826</td>\n",
       "      <td>0.000954</td>\n",
       "      <td>0.447</td>\n",
       "      <td>0.766</td>\n",
       "      <td>0.000000</td>\n",
       "      <td>10</td>\n",
       "      <td>0.1130</td>\n",
       "      <td>-5.065</td>\n",
       "      <td>1</td>\n",
       "      <td>0.0313</td>\n",
       "      <td>172.011</td>\n",
       "      <td>4</td>\n",
       "      <td>0.574</td>\n",
       "    </tr>\n",
       "  </tbody>\n",
       "</table>\n",
       "</div>"
      ],
      "text/plain": [
       "                    song_name  song_popularity  song_duration_ms  \\\n",
       "0  Boulevard of Broken Dreams               73            262333   \n",
       "1                  In The End               66            216933   \n",
       "2           Seven Nation Army               76            231733   \n",
       "3                  By The Way               74            216933   \n",
       "4           How You Remind Me               56            223826   \n",
       "\n",
       "   acousticness  danceability  energy  instrumentalness  key  liveness  \\\n",
       "0      0.005520         0.496   0.682          0.000029    8    0.0589   \n",
       "1      0.010300         0.542   0.853          0.000000    3    0.1080   \n",
       "2      0.008170         0.737   0.463          0.447000    0    0.2550   \n",
       "3      0.026400         0.451   0.970          0.003550    0    0.1020   \n",
       "4      0.000954         0.447   0.766          0.000000   10    0.1130   \n",
       "\n",
       "   loudness  audio_mode  speechiness    tempo  time_signature  audio_valence  \n",
       "0    -4.095           1       0.0294  167.060               4          0.474  \n",
       "1    -6.407           0       0.0498  105.256               4          0.370  \n",
       "2    -7.828           1       0.0792  123.881               4          0.324  \n",
       "3    -4.938           1       0.1070  122.444               4          0.198  \n",
       "4    -5.065           1       0.0313  172.011               4          0.574  "
      ]
     },
     "execution_count": 2,
     "metadata": {},
     "output_type": "execute_result"
    }
   ],
   "source": [
    "df=pd.read_csv('data\\song_data.csv')\n",
    "df.head()"
   ]
  },
  {
   "cell_type": "code",
   "execution_count": 3,
   "metadata": {},
   "outputs": [
    {
     "data": {
      "text/plain": [
       "(7938,)"
      ]
     },
     "execution_count": 3,
     "metadata": {},
     "output_type": "execute_result"
    }
   ],
   "source": [
    "popularity_percentile = 80\n",
    "pop_crit = np.percentile(df['song_popularity'],popularity_percentile)\n",
    "con1=np.where(df['song_popularity']<40)[0]\n",
    "con2=np.where(df['song_popularity']>pop_crit)[0]\n",
    "index=np.concatenate((con1,con2))\n",
    "index.shape"
   ]
  },
  {
   "cell_type": "code",
   "execution_count": 7,
   "metadata": {},
   "outputs": [
    {
     "data": {
      "text/html": [
       "<div>\n",
       "<style scoped>\n",
       "    .dataframe tbody tr th:only-of-type {\n",
       "        vertical-align: middle;\n",
       "    }\n",
       "\n",
       "    .dataframe tbody tr th {\n",
       "        vertical-align: top;\n",
       "    }\n",
       "\n",
       "    .dataframe thead th {\n",
       "        text-align: right;\n",
       "    }\n",
       "</style>\n",
       "<table border=\"1\" class=\"dataframe\">\n",
       "  <thead>\n",
       "    <tr style=\"text-align: right;\">\n",
       "      <th></th>\n",
       "      <th>song_name</th>\n",
       "      <th>song_popularity</th>\n",
       "      <th>song_duration_ms</th>\n",
       "      <th>acousticness</th>\n",
       "      <th>danceability</th>\n",
       "      <th>energy</th>\n",
       "      <th>instrumentalness</th>\n",
       "      <th>key</th>\n",
       "      <th>liveness</th>\n",
       "      <th>loudness</th>\n",
       "      <th>audio_mode</th>\n",
       "      <th>speechiness</th>\n",
       "      <th>tempo</th>\n",
       "      <th>time_signature</th>\n",
       "      <th>audio_valence</th>\n",
       "    </tr>\n",
       "  </thead>\n",
       "  <tbody>\n",
       "    <tr>\n",
       "      <th>22</th>\n",
       "      <td>No One Knows</td>\n",
       "      <td>0</td>\n",
       "      <td>255066</td>\n",
       "      <td>0.013700</td>\n",
       "      <td>0.518</td>\n",
       "      <td>0.538</td>\n",
       "      <td>0.000398</td>\n",
       "      <td>0</td>\n",
       "      <td>0.1410</td>\n",
       "      <td>-5.818</td>\n",
       "      <td>1</td>\n",
       "      <td>0.0486</td>\n",
       "      <td>170.953</td>\n",
       "      <td>4</td>\n",
       "      <td>0.687</td>\n",
       "    </tr>\n",
       "    <tr>\n",
       "      <th>26</th>\n",
       "      <td>Blurry</td>\n",
       "      <td>0</td>\n",
       "      <td>303920</td>\n",
       "      <td>0.010200</td>\n",
       "      <td>0.440</td>\n",
       "      <td>0.932</td>\n",
       "      <td>0.000000</td>\n",
       "      <td>3</td>\n",
       "      <td>0.1420</td>\n",
       "      <td>-4.488</td>\n",
       "      <td>0</td>\n",
       "      <td>0.0584</td>\n",
       "      <td>157.438</td>\n",
       "      <td>4</td>\n",
       "      <td>0.495</td>\n",
       "    </tr>\n",
       "    <tr>\n",
       "      <th>30</th>\n",
       "      <td>All My Life</td>\n",
       "      <td>0</td>\n",
       "      <td>262733</td>\n",
       "      <td>0.000194</td>\n",
       "      <td>0.582</td>\n",
       "      <td>0.597</td>\n",
       "      <td>0.000273</td>\n",
       "      <td>5</td>\n",
       "      <td>0.5170</td>\n",
       "      <td>-5.671</td>\n",
       "      <td>1</td>\n",
       "      <td>0.0512</td>\n",
       "      <td>167.738</td>\n",
       "      <td>4</td>\n",
       "      <td>0.674</td>\n",
       "    </tr>\n",
       "    <tr>\n",
       "      <th>36</th>\n",
       "      <td>The Pretender</td>\n",
       "      <td>0</td>\n",
       "      <td>269373</td>\n",
       "      <td>0.000917</td>\n",
       "      <td>0.433</td>\n",
       "      <td>0.959</td>\n",
       "      <td>0.000000</td>\n",
       "      <td>9</td>\n",
       "      <td>0.0280</td>\n",
       "      <td>-4.040</td>\n",
       "      <td>1</td>\n",
       "      <td>0.0431</td>\n",
       "      <td>172.984</td>\n",
       "      <td>4</td>\n",
       "      <td>0.365</td>\n",
       "    </tr>\n",
       "    <tr>\n",
       "      <th>91</th>\n",
       "      <td>Como</td>\n",
       "      <td>0</td>\n",
       "      <td>234373</td>\n",
       "      <td>0.003230</td>\n",
       "      <td>0.543</td>\n",
       "      <td>0.847</td>\n",
       "      <td>0.000000</td>\n",
       "      <td>9</td>\n",
       "      <td>0.0551</td>\n",
       "      <td>-3.574</td>\n",
       "      <td>1</td>\n",
       "      <td>0.0659</td>\n",
       "      <td>92.046</td>\n",
       "      <td>4</td>\n",
       "      <td>0.650</td>\n",
       "    </tr>\n",
       "  </tbody>\n",
       "</table>\n",
       "</div>"
      ],
      "text/plain": [
       "        song_name  song_popularity  song_duration_ms  acousticness  \\\n",
       "22   No One Knows                0            255066      0.013700   \n",
       "26         Blurry                0            303920      0.010200   \n",
       "30    All My Life                0            262733      0.000194   \n",
       "36  The Pretender                0            269373      0.000917   \n",
       "91           Como                0            234373      0.003230   \n",
       "\n",
       "    danceability  energy  instrumentalness  key  liveness  loudness  \\\n",
       "22         0.518   0.538          0.000398    0    0.1410    -5.818   \n",
       "26         0.440   0.932          0.000000    3    0.1420    -4.488   \n",
       "30         0.582   0.597          0.000273    5    0.5170    -5.671   \n",
       "36         0.433   0.959          0.000000    9    0.0280    -4.040   \n",
       "91         0.543   0.847          0.000000    9    0.0551    -3.574   \n",
       "\n",
       "    audio_mode  speechiness    tempo  time_signature  audio_valence  \n",
       "22           1       0.0486  170.953               4          0.687  \n",
       "26           0       0.0584  157.438               4          0.495  \n",
       "30           1       0.0512  167.738               4          0.674  \n",
       "36           1       0.0431  172.984               4          0.365  \n",
       "91           1       0.0659   92.046               4          0.650  "
      ]
     },
     "execution_count": 7,
     "metadata": {},
     "output_type": "execute_result"
    }
   ],
   "source": [
    "df1=df.loc[index]\n",
    "\n",
    "def trans(x):\n",
    "    if x>pop_crit:\n",
    "        return 1\n",
    "    else:\n",
    "        return 0\n",
    "\n",
    "df1['song_popularity']=df1['song_popularity'].apply(trans)\n",
    "df1.head()"
   ]
  },
  {
   "cell_type": "code",
   "execution_count": 7,
   "metadata": {},
   "outputs": [],
   "source": [
    "X=df1[df1.columns[2:]].values #song_popularity\n",
    "y=df1[df1.columns[1]].values #other features\n",
    "\n",
    "X_train, X_test, y_train, y_test = train_test_split(X, y, test_size=0.3,\n",
    "                                                    shuffle=True,random_state=123, stratify=y)"
   ]
  },
  {
   "cell_type": "code",
   "execution_count": 8,
   "metadata": {},
   "outputs": [
    {
     "name": "stdout",
     "output_type": "stream",
     "text": [
      "0.73%\n"
     ]
    }
   ],
   "source": [
    "from sklearn.neighbors import KNeighborsClassifier\n",
    "from sklearn.preprocessing import StandardScaler\n",
    "from sklearn.pipeline import make_pipeline\n",
    "\n",
    "pipe=make_pipeline(StandardScaler(),\n",
    "                  KNeighborsClassifier(n_neighbors=3,p=2))\n",
    "\n",
    "pipe.fit(X_train,y_train)\n",
    "acc=np.sum(pipe.predict(X_test)==y_test)/y_test.shape[0]\n",
    "print('%.2f%%'%acc)"
   ]
  },
  {
   "cell_type": "code",
   "execution_count": 18,
   "metadata": {},
   "outputs": [
    {
     "name": "stdout",
     "output_type": "stream",
     "text": [
      "Best Accuracy: 78.31%\n",
      "Best Params: {'kneighborsclassifier__n_neighbors': 1, 'kneighborsclassifier__p': 2}\n"
     ]
    }
   ],
   "source": [
    "from sklearn.model_selection import GridSearchCV\n",
    "\n",
    "param_grid = {'kneighborsclassifier__p': [1,2],\n",
    "              'kneighborsclassifier__n_neighbors': [1, 3, 5, 7, 9, 11, 13, 15]}\n",
    "\n",
    "gs = GridSearchCV(estimator=pipe,\n",
    "                  param_grid=param_grid,\n",
    "                  refit=True,#default\n",
    "                  cv=10,#k-fold cross validation, strtified, accuracy\n",
    "                  n_jobs=-1)\n",
    "\n",
    "gs.fit(X_train, y_train)\n",
    "\n",
    "print('Best Accuracy: %.2f%%' % (gs.best_score_*100))#available after fitting\n",
    "print('Best Params:', gs.best_params_)#get the parameter combination"
   ]
  },
  {
   "cell_type": "code",
   "execution_count": 19,
   "metadata": {},
   "outputs": [
    {
     "name": "stdout",
     "output_type": "stream",
     "text": [
      "0.7805988722535485 {'kneighborsclassifier__n_neighbors': 1, 'kneighborsclassifier__p': 1}\n",
      "0.7831155616047702 {'kneighborsclassifier__n_neighbors': 1, 'kneighborsclassifier__p': 2}\n",
      "0.7221057748395878 {'kneighborsclassifier__n_neighbors': 3, 'kneighborsclassifier__p': 1}\n",
      "0.7240841921057748 {'kneighborsclassifier__n_neighbors': 3, 'kneighborsclassifier__p': 2}\n",
      "0.7060930714887549 {'kneighborsclassifier__n_neighbors': 5, 'kneighborsclassifier__p': 1}\n",
      "0.6981719489273447 {'kneighborsclassifier__n_neighbors': 5, 'kneighborsclassifier__p': 2}\n",
      "0.697809968241623 {'kneighborsclassifier__n_neighbors': 7, 'kneighborsclassifier__p': 1}\n",
      "0.6855706785922613 {'kneighborsclassifier__n_neighbors': 7, 'kneighborsclassifier__p': 2}\n",
      "0.6879120487393868 {'kneighborsclassifier__n_neighbors': 9, 'kneighborsclassifier__p': 1}\n",
      "0.678911789487329 {'kneighborsclassifier__n_neighbors': 9, 'kneighborsclassifier__p': 2}\n",
      "0.6828747812560761 {'kneighborsclassifier__n_neighbors': 11, 'kneighborsclassifier__p': 1}\n",
      "0.6756782681962539 {'kneighborsclassifier__n_neighbors': 11, 'kneighborsclassifier__p': 2}\n",
      "0.684312982046795 {'kneighborsclassifier__n_neighbors': 13, 'kneighborsclassifier__p': 1}\n",
      "0.6724415062544559 {'kneighborsclassifier__n_neighbors': 13, 'kneighborsclassifier__p': 2}\n",
      "0.6796334824032666 {'kneighborsclassifier__n_neighbors': 15, 'kneighborsclassifier__p': 1}\n",
      "0.6724411821893836 {'kneighborsclassifier__n_neighbors': 15, 'kneighborsclassifier__p': 2}\n"
     ]
    }
   ],
   "source": [
    "for i in range(len(gs.cv_results_['mean_test_score'])):#average on k-fold\n",
    "    print(gs.cv_results_['mean_test_score'][i], gs.cv_results_['params'][i]) "
   ]
  },
  {
   "cell_type": "code",
   "execution_count": 20,
   "metadata": {},
   "outputs": [
    {
     "data": {
      "image/png": "[encoded data removed]",
      "text/plain": [
       "<Figure size 432x288 with 2 Axes>"
      ]
     },
     "metadata": {
      "needs_background": "light"
     },
     "output_type": "display_data"
    }
   ],
   "source": [
    "from mlxtend.plotting import heatmap\n",
    "import numpy as np\n",
    "import pandas as pd\n",
    "\n",
    "grid = np.zeros((2, 8))\n",
    "grid[0, :] = gs.cv_results_['mean_test_score'][:8]\n",
    "grid[1, :] = gs.cv_results_['mean_test_score'][8:]\n",
    "\n",
    "\n",
    "heatmap(grid, \n",
    "        column_names=[1, 3, 5, 7, 9, 11, 13, 15], \n",
    "        row_names=['p1','p2'])\n",
    "plt.ylabel('Minkowski metric')\n",
    "plt.xlabel('Neighbors')\n",
    "plt.show()"
   ]
  },
  {
   "cell_type": "markdown",
   "metadata": {},
   "source": [
    "very stange, don't know why"
   ]
  },
  {
   "cell_type": "code",
   "execution_count": 12,
   "metadata": {},
   "outputs": [
    {
     "name": "stdout",
     "output_type": "stream",
     "text": [
      "Best Accuracy: 70.57%\n",
      "Best Params: {'criterion': 'gini', 'max_depth': None}\n",
      "acc=0.71%\n",
      "best estimator score is0.71%\n"
     ]
    }
   ],
   "source": [
    "from sklearn.tree import DecisionTreeClassifier\n",
    "\n",
    "param_grid = {'max_depth': [1, 2, 3, 4, 5, 6, None],\n",
    "               'criterion': ['gini', 'entropy']}#None means no restrain\n",
    "\n",
    "\n",
    "gs = GridSearchCV(estimator=DecisionTreeClassifier(random_state=123),\n",
    "                  param_grid=param_grid,\n",
    "                  refit=True,#default\n",
    "                  cv=10,#k-fold cross validation, strtified, accuracy\n",
    "                  n_jobs=-1)\n",
    "\n",
    "gs.fit(X_train, y_train)\n",
    "\n",
    "print('Best Accuracy: %.2f%%' % (gs.best_score_*100))#available after fitting\n",
    "print('Best Params:', gs.best_params_)#get the parameter combination\n",
    "\n",
    "acc=np.sum(gs.best_estimator_.predict(X_test)==y_test)/y_test.shape[0]\n",
    "print('acc=%.2f%%'%acc)\n",
    "print('best estimator score is %.2f%%'%gs.best_estimator_.score(X_test,y_test))"
   ]
  },
  {
   "cell_type": "code",
   "execution_count": 10,
   "metadata": {},
   "outputs": [
    {
     "name": "stdout",
     "output_type": "stream",
     "text": [
      "0.75%\n"
     ]
    }
   ],
   "source": [
    "from sklearn.ensemble import RandomForestClassifier\n",
    "\n",
    "clf1=RandomForestClassifier(random_state=123)\n",
    "\n",
    "clf1.fit(X_train,y_train)\n",
    "acc=np.sum(clf1.predict(X_test)==y_test)/y_test.shape[0]\n",
    "print('%.2f%%'%acc)"
   ]
  },
  {
   "cell_type": "code",
   "execution_count": null,
   "metadata": {},
   "outputs": [],
   "source": []
  }
 ],
 "metadata": {
  "kernelspec": {
   "display_name": "Python [conda env:.conda-tensor]",
   "language": "python",
   "name": "conda-env-.conda-tensor-py"
  },
  "language_info": {
   "codemirror_mode": {
    "name": "ipython",
    "version": 3
   },
   "file_extension": ".py",
   "mimetype": "text/x-python",
   "name": "python",
   "nbconvert_exporter": "python",
   "pygments_lexer": "ipython3",
   "version": "3.7.9"
  }
 },
 "nbformat": 4,
 "nbformat_minor": 4
}
