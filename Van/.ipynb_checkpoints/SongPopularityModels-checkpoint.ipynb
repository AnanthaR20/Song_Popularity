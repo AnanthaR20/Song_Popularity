{
 "cells": [
  {
   "cell_type": "code",
   "execution_count": 1,
   "metadata": {
    "scrolled": true
   },
   "outputs": [
    {
     "name": "stdout",
     "output_type": "stream",
     "text": [
      "72.0\n"
     ]
    }
   ],
   "source": [
    "import numpy as np\n",
    "import pandas as pd\n",
    "from matplotlib import pyplot as plt\n",
    "# from sklearn.tree import DecisionTreeClassifier\n",
    "\n",
    "\n",
    "song_data = pd.read_csv(\"data/song_data.csv\")\n",
    "song_info = pd.read_csv(\"data/song_info.csv\")\n",
    "\n",
    "song_data.head()\n",
    "# song_info.head()\n",
    "# song_data['song_popularity']\n",
    "\n",
    "# What score constitutes the upper 20% of song popularity?\n",
    "popularity_percentile = 80\n",
    "pop_crit = np.percentile(song_data['song_popularity'],popularity_percentile)\n",
    "print(pop_crit)"
   ]
  },
  {
   "cell_type": "code",
   "execution_count": 4,
   "metadata": {},
   "outputs": [
    {
     "data": {
      "text/html": [
       "<div>\n",
       "<style scoped>\n",
       "    .dataframe tbody tr th:only-of-type {\n",
       "        vertical-align: middle;\n",
       "    }\n",
       "\n",
       "    .dataframe tbody tr th {\n",
       "        vertical-align: top;\n",
       "    }\n",
       "\n",
       "    .dataframe thead th {\n",
       "        text-align: right;\n",
       "    }\n",
       "</style>\n",
       "<table border=\"1\" class=\"dataframe\">\n",
       "  <thead>\n",
       "    <tr style=\"text-align: right;\">\n",
       "      <th></th>\n",
       "      <th>song_name</th>\n",
       "      <th>song_popularity</th>\n",
       "      <th>song_duration_ms</th>\n",
       "      <th>acousticness</th>\n",
       "      <th>danceability</th>\n",
       "      <th>energy</th>\n",
       "      <th>instrumentalness</th>\n",
       "      <th>key</th>\n",
       "      <th>liveness</th>\n",
       "      <th>loudness</th>\n",
       "      <th>audio_mode</th>\n",
       "      <th>speechiness</th>\n",
       "      <th>tempo</th>\n",
       "      <th>time_signature</th>\n",
       "      <th>audio_valence</th>\n",
       "    </tr>\n",
       "  </thead>\n",
       "  <tbody>\n",
       "    <tr>\n",
       "      <th>0</th>\n",
       "      <td>Boulevard of Broken Dreams</td>\n",
       "      <td>73</td>\n",
       "      <td>262333</td>\n",
       "      <td>0.005520</td>\n",
       "      <td>0.496</td>\n",
       "      <td>0.682</td>\n",
       "      <td>0.000029</td>\n",
       "      <td>8</td>\n",
       "      <td>0.0589</td>\n",
       "      <td>-4.095</td>\n",
       "      <td>1</td>\n",
       "      <td>0.0294</td>\n",
       "      <td>167.060</td>\n",
       "      <td>4</td>\n",
       "      <td>0.474</td>\n",
       "    </tr>\n",
       "    <tr>\n",
       "      <th>1</th>\n",
       "      <td>In The End</td>\n",
       "      <td>66</td>\n",
       "      <td>216933</td>\n",
       "      <td>0.010300</td>\n",
       "      <td>0.542</td>\n",
       "      <td>0.853</td>\n",
       "      <td>0.000000</td>\n",
       "      <td>3</td>\n",
       "      <td>0.1080</td>\n",
       "      <td>-6.407</td>\n",
       "      <td>0</td>\n",
       "      <td>0.0498</td>\n",
       "      <td>105.256</td>\n",
       "      <td>4</td>\n",
       "      <td>0.370</td>\n",
       "    </tr>\n",
       "    <tr>\n",
       "      <th>2</th>\n",
       "      <td>Seven Nation Army</td>\n",
       "      <td>76</td>\n",
       "      <td>231733</td>\n",
       "      <td>0.008170</td>\n",
       "      <td>0.737</td>\n",
       "      <td>0.463</td>\n",
       "      <td>0.447000</td>\n",
       "      <td>0</td>\n",
       "      <td>0.2550</td>\n",
       "      <td>-7.828</td>\n",
       "      <td>1</td>\n",
       "      <td>0.0792</td>\n",
       "      <td>123.881</td>\n",
       "      <td>4</td>\n",
       "      <td>0.324</td>\n",
       "    </tr>\n",
       "    <tr>\n",
       "      <th>3</th>\n",
       "      <td>By The Way</td>\n",
       "      <td>74</td>\n",
       "      <td>216933</td>\n",
       "      <td>0.026400</td>\n",
       "      <td>0.451</td>\n",
       "      <td>0.970</td>\n",
       "      <td>0.003550</td>\n",
       "      <td>0</td>\n",
       "      <td>0.1020</td>\n",
       "      <td>-4.938</td>\n",
       "      <td>1</td>\n",
       "      <td>0.1070</td>\n",
       "      <td>122.444</td>\n",
       "      <td>4</td>\n",
       "      <td>0.198</td>\n",
       "    </tr>\n",
       "    <tr>\n",
       "      <th>4</th>\n",
       "      <td>How You Remind Me</td>\n",
       "      <td>56</td>\n",
       "      <td>223826</td>\n",
       "      <td>0.000954</td>\n",
       "      <td>0.447</td>\n",
       "      <td>0.766</td>\n",
       "      <td>0.000000</td>\n",
       "      <td>10</td>\n",
       "      <td>0.1130</td>\n",
       "      <td>-5.065</td>\n",
       "      <td>1</td>\n",
       "      <td>0.0313</td>\n",
       "      <td>172.011</td>\n",
       "      <td>4</td>\n",
       "      <td>0.574</td>\n",
       "    </tr>\n",
       "  </tbody>\n",
       "</table>\n",
       "</div>"
      ],
      "text/plain": [
       "                    song_name  song_popularity  song_duration_ms  \\\n",
       "0  Boulevard of Broken Dreams               73            262333   \n",
       "1                  In The End               66            216933   \n",
       "2           Seven Nation Army               76            231733   \n",
       "3                  By The Way               74            216933   \n",
       "4           How You Remind Me               56            223826   \n",
       "\n",
       "   acousticness  danceability  energy  instrumentalness  key  liveness  \\\n",
       "0      0.005520         0.496   0.682          0.000029    8    0.0589   \n",
       "1      0.010300         0.542   0.853          0.000000    3    0.1080   \n",
       "2      0.008170         0.737   0.463          0.447000    0    0.2550   \n",
       "3      0.026400         0.451   0.970          0.003550    0    0.1020   \n",
       "4      0.000954         0.447   0.766          0.000000   10    0.1130   \n",
       "\n",
       "   loudness  audio_mode  speechiness    tempo  time_signature  audio_valence  \n",
       "0    -4.095           1       0.0294  167.060               4          0.474  \n",
       "1    -6.407           0       0.0498  105.256               4          0.370  \n",
       "2    -7.828           1       0.0792  123.881               4          0.324  \n",
       "3    -4.938           1       0.1070  122.444               4          0.198  \n",
       "4    -5.065           1       0.0313  172.011               4          0.574  "
      ]
     },
     "execution_count": 4,
     "metadata": {},
     "output_type": "execute_result"
    }
   ],
   "source": [
    "song_data.head()"
   ]
  },
  {
   "cell_type": "code",
   "execution_count": 5,
   "metadata": {
    "scrolled": true
   },
   "outputs": [],
   "source": [
    "from sklearn.model_selection import train_test_split\n",
    "\n",
    "# currently the pop_crit is popularity score of 72+\n",
    "class_labels = song_data['song_popularity'].apply(lambda x: 1 if x >= pop_crit else 0)  #song_data.pop(\"is_popular\")\n",
    "scores = song_data.pop(\"song_popularity\")\n",
    "names = song_data.pop(\"song_name\") # Get rid of name column\n",
    "# \n",
    "X = np.array(song_data)\n",
    "y = np.array(class_labels)\n",
    "z = np.array(scores)\n",
    "\n",
    "X_train, X_test, y_train, y_test = train_test_split(X,y,\n",
    "                                                   train_size = 0.85,\n",
    "                                                   random_state = 123,\n",
    "                                                   )#stratify = y)\n"
   ]
  },
  {
   "cell_type": "code",
   "execution_count": 3,
   "metadata": {},
   "outputs": [
    {
     "name": "stdout",
     "output_type": "stream",
     "text": [
      "0.8598726114649682\n"
     ]
    }
   ],
   "source": [
    "# Train a Decision Tree Classifier\n",
    "from sklearn.tree import DecisionTreeClassifier\n",
    "\n",
    "dt = DecisionTreeClassifier(max_depth = 15,random_state = 123)#criterion = 'gini',max_depth = 30)#max_depth = 12)\n",
    "dt.fit(X_train,y_train)\n",
    "\n",
    "\n",
    "print(np.mean(dt.predict(X_test) == y_test))"
   ]
  },
  {
   "cell_type": "code",
   "execution_count": 4,
   "metadata": {},
   "outputs": [
    {
     "name": "stdout",
     "output_type": "stream",
     "text": [
      "Best Accuracy: 86.66%\n",
      "Best Params: {'criterion': 'entropy', 'max_depth': 100}\n"
     ]
    }
   ],
   "source": [
    "# Grid Search for the DT\n",
    "from sklearn.model_selection import GridSearchCV\n",
    "\n",
    "\n",
    "param_grid = [{'max_depth': [8, 12, 16, 20, 24,30,100, None],\n",
    "               'criterion': ['gini', 'entropy']}]\n",
    "\n",
    "gsdt = GridSearchCV(estimator=DecisionTreeClassifier(random_state = 123),\n",
    "                  param_grid=param_grid,\n",
    "                  refit=True,\n",
    "                  cv=10,\n",
    "                  n_jobs=None)\n",
    "\n",
    "gsdt.fit(X_train, y_train)\n",
    "\n",
    "print('Best Accuracy: %.2f%%' % (gsdt.best_score_*100))\n",
    "print('Best Params:', gsdt.best_params_)"
   ]
  },
  {
   "cell_type": "code",
   "execution_count": 5,
   "metadata": {},
   "outputs": [
    {
     "name": "stdout",
     "output_type": "stream",
     "text": [
      "0.8116054419113053 {'criterion': 'gini', 'max_depth': 8}\n",
      "0.837653419737664 {'criterion': 'gini', 'max_depth': 12}\n",
      "0.8578299890693317 {'criterion': 'gini', 'max_depth': 16}\n",
      "0.8607034665833855 {'criterion': 'gini', 'max_depth': 20}\n",
      "0.8662629996876952 {'criterion': 'gini', 'max_depth': 24}\n",
      "0.866326085259213 {'criterion': 'gini', 'max_depth': 30}\n",
      "0.8662010462211118 {'criterion': 'gini', 'max_depth': 100}\n",
      "0.8662010462211118 {'criterion': 'gini', 'max_depth': None}\n",
      "0.8059214943785135 {'criterion': 'entropy', 'max_depth': 8}\n",
      "0.8274088069956278 {'criterion': 'entropy', 'max_depth': 12}\n",
      "0.8481471736414742 {'criterion': 'entropy', 'max_depth': 16}\n",
      "0.8567674109931293 {'criterion': 'entropy', 'max_depth': 20}\n",
      "0.8625770612117428 {'criterion': 'entropy', 'max_depth': 24}\n",
      "0.8665754216114928 {'criterion': 'entropy', 'max_depth': 30}\n",
      "0.8666379216114928 {'criterion': 'entropy', 'max_depth': 100}\n",
      "0.8666379216114928 {'criterion': 'entropy', 'max_depth': None}\n"
     ]
    }
   ],
   "source": [
    "for i in range(len(gsdt.cv_results_['mean_test_score'])):\n",
    "    print(gsdt.cv_results_['mean_test_score'][i],gsdt.cv_results_['params'][i])"
   ]
  },
  {
   "cell_type": "code",
   "execution_count": 6,
   "metadata": {},
   "outputs": [],
   "source": [
    "# # Let's get an estimate for the true generalization accuracy of this model\n",
    "# from mlxtend.evaluate import bootstrap_point632_score\n",
    "\n",
    "# point632_est = bootstrap_point632_score(clf, \n",
    "#                             X_train, y_train, \n",
    "#                             n_splits=100, \n",
    "#                             method='.632+',\n",
    "#                             random_seed=123)\n",
    "\n",
    "# np.mean(point632_est)"
   ]
  },
  {
   "cell_type": "code",
   "execution_count": 7,
   "metadata": {},
   "outputs": [
    {
     "data": {
      "text/plain": [
       "0.9249823071479123"
      ]
     },
     "execution_count": 7,
     "metadata": {},
     "output_type": "execute_result"
    }
   ],
   "source": [
    "# Use a bagging classifier\n",
    "from sklearn.tree import DecisionTreeClassifier\n",
    "from sklearn.ensemble import BaggingClassifier\n",
    "\n",
    "base = DecisionTreeClassifier(max_depth = 15,\n",
    "                              criterion = 'entropy',\n",
    "                             random_state = 1)\n",
    "\n",
    "bag = BaggingClassifier(base,\n",
    "                       n_estimators = 500,\n",
    "                       random_state = 1)\n",
    "\n",
    "    \n",
    "bag.fit(X_train,y_train)\n",
    "np.mean(bag.predict(X_test) == y_test)"
   ]
  },
  {
   "cell_type": "code",
   "execution_count": 8,
   "metadata": {},
   "outputs": [
    {
     "data": {
      "text/plain": [
       "0.15074309978768577"
      ]
     },
     "execution_count": 8,
     "metadata": {},
     "output_type": "execute_result"
    }
   ],
   "source": [
    "np.mean(bag.predict(X_test))"
   ]
  },
  {
   "cell_type": "code",
   "execution_count": 27,
   "metadata": {},
   "outputs": [
    {
     "name": "stdout",
     "output_type": "stream",
     "text": [
      "2.15 ms ± 968 µs per loop (mean ± std. dev. of 7 runs, 100 loops each)\n"
     ]
    }
   ],
   "source": [
    "%timeit np.mean(dt.predict(X_test))"
   ]
  },
  {
   "cell_type": "code",
   "execution_count": 11,
   "metadata": {},
   "outputs": [
    {
     "data": {
      "text/plain": [
       "<AxesSubplot:title={'center':'Feature importance'}, xlabel='F score', ylabel='Features'>"
      ]
     },
     "execution_count": 11,
     "metadata": {},
     "output_type": "execute_result"
    },
    {
     "data": {
      "image/png": "[encoded data removed]",
      "text/plain": [
       "<Figure size 432x288 with 1 Axes>"
      ]
     },
     "metadata": {
      "needs_background": "light"
     },
     "output_type": "display_data"
    }
   ],
   "source": [
    "from xgboost import XGBClassifier\n",
    "from xgboost import plot_importance\n",
    "\n",
    "# fit model no training data\n",
    "model = XGBClassifier()\n",
    "model.fit(X_train, y_train)\n",
    "\n",
    "plot_importance(model)"
   ]
  },
  {
   "cell_type": "code",
   "execution_count": 34,
   "metadata": {},
   "outputs": [
    {
     "data": {
      "text/html": [
       "<div>\n",
       "<style scoped>\n",
       "    .dataframe tbody tr th:only-of-type {\n",
       "        vertical-align: middle;\n",
       "    }\n",
       "\n",
       "    .dataframe tbody tr th {\n",
       "        vertical-align: top;\n",
       "    }\n",
       "\n",
       "    .dataframe thead th {\n",
       "        text-align: right;\n",
       "    }\n",
       "</style>\n",
       "<table border=\"1\" class=\"dataframe\">\n",
       "  <thead>\n",
       "    <tr style=\"text-align: right;\">\n",
       "      <th></th>\n",
       "      <th>song_duration_ms</th>\n",
       "      <th>tempo</th>\n",
       "      <th>loudness</th>\n",
       "    </tr>\n",
       "  </thead>\n",
       "  <tbody>\n",
       "    <tr>\n",
       "      <th>0</th>\n",
       "      <td>262333</td>\n",
       "      <td>167.060</td>\n",
       "      <td>-4.095</td>\n",
       "    </tr>\n",
       "    <tr>\n",
       "      <th>1</th>\n",
       "      <td>216933</td>\n",
       "      <td>105.256</td>\n",
       "      <td>-6.407</td>\n",
       "    </tr>\n",
       "    <tr>\n",
       "      <th>2</th>\n",
       "      <td>231733</td>\n",
       "      <td>123.881</td>\n",
       "      <td>-7.828</td>\n",
       "    </tr>\n",
       "    <tr>\n",
       "      <th>3</th>\n",
       "      <td>216933</td>\n",
       "      <td>122.444</td>\n",
       "      <td>-4.938</td>\n",
       "    </tr>\n",
       "    <tr>\n",
       "      <th>4</th>\n",
       "      <td>223826</td>\n",
       "      <td>172.011</td>\n",
       "      <td>-5.065</td>\n",
       "    </tr>\n",
       "    <tr>\n",
       "      <th>...</th>\n",
       "      <td>...</td>\n",
       "      <td>...</td>\n",
       "      <td>...</td>\n",
       "    </tr>\n",
       "    <tr>\n",
       "      <th>18830</th>\n",
       "      <td>159645</td>\n",
       "      <td>113.969</td>\n",
       "      <td>-16.107</td>\n",
       "    </tr>\n",
       "    <tr>\n",
       "      <th>18831</th>\n",
       "      <td>205666</td>\n",
       "      <td>94.286</td>\n",
       "      <td>-14.078</td>\n",
       "    </tr>\n",
       "    <tr>\n",
       "      <th>18832</th>\n",
       "      <td>182211</td>\n",
       "      <td>130.534</td>\n",
       "      <td>-12.222</td>\n",
       "    </tr>\n",
       "    <tr>\n",
       "      <th>18833</th>\n",
       "      <td>352280</td>\n",
       "      <td>106.063</td>\n",
       "      <td>-12.020</td>\n",
       "    </tr>\n",
       "    <tr>\n",
       "      <th>18834</th>\n",
       "      <td>193533</td>\n",
       "      <td>91.490</td>\n",
       "      <td>-11.790</td>\n",
       "    </tr>\n",
       "  </tbody>\n",
       "</table>\n",
       "<p>18835 rows × 3 columns</p>\n",
       "</div>"
      ],
      "text/plain": [
       "       song_duration_ms    tempo  loudness\n",
       "0                262333  167.060    -4.095\n",
       "1                216933  105.256    -6.407\n",
       "2                231733  123.881    -7.828\n",
       "3                216933  122.444    -4.938\n",
       "4                223826  172.011    -5.065\n",
       "...                 ...      ...       ...\n",
       "18830            159645  113.969   -16.107\n",
       "18831            205666   94.286   -14.078\n",
       "18832            182211  130.534   -12.222\n",
       "18833            352280  106.063   -12.020\n",
       "18834            193533   91.490   -11.790\n",
       "\n",
       "[18835 rows x 3 columns]"
      ]
     },
     "execution_count": 34,
     "metadata": {},
     "output_type": "execute_result"
    }
   ],
   "source": [
    "select = np.array(['song_duration_ms','tempo','loudness'])\n",
    "\n",
    "# song_data[select]\n",
    "song_data[select]"
   ]
  },
  {
   "cell_type": "code",
   "execution_count": null,
   "metadata": {},
   "outputs": [],
   "source": [
    "import numpy as np\n",
    "from mlxtend.evaluate import mcnemar_table\n",
    "\n",
    "# # The correct target (class) labels\n",
    "# y_target = np.array([0, 0, 0, 0, 0, 1, 1, 1, 1, 1])\n",
    "\n",
    "# # Class labels predicted by model 1\n",
    "# y_model1 = np.array([0, 1, 0, 0, 0, 1, 1, 0, 0, 0])\n",
    "\n",
    "# # Class labels predicted by model 2\n",
    "# y_model2 = np.array([0, 0, 1, 1, 0, 1, 1, 0, 0, 0])\n",
    "\n",
    "# tb = mcnemar_table(y_target=y_test, \n",
    "#                    y_model1= bag.predict(X_test), \n",
    "#                    y_model2= RandomForest.predict(X_test))\n"
   ]
  }
 ],
 "metadata": {
  "kernelspec": {
   "display_name": "Python 3",
   "language": "python",
   "name": "python3"
  },
  "language_info": {
   "codemirror_mode": {
    "name": "ipython",
    "version": 3
   },
   "file_extension": ".py",
   "mimetype": "text/x-python",
   "name": "python",
   "nbconvert_exporter": "python",
   "pygments_lexer": "ipython3",
   "version": "3.8.5"
  }
 },
 "nbformat": 4,
 "nbformat_minor": 4
}
